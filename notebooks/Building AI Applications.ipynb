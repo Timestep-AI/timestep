{
 "cells": [
  {
   "cell_type": "markdown",
   "metadata": {},
   "source": [
    "# Building AI Applications\n",
    "\n",
    "This example was copied and modified from https://www.askmarvin.ai/docs/interactive/applications/."
   ]
  },
  {
   "cell_type": "code",
   "execution_count": 1,
   "metadata": {},
   "outputs": [],
   "source": [
    "from datetime import datetime\n",
    "import os\n",
    "\n",
    "import marvin\n",
    "from marvin.beta import Application\n",
    "from marvin.beta.assistants import Assistant, CodeInterpreter, pprint_messages\n",
    "from marvin.beta.assistants.runs import Run\n",
    "from openai import OpenAI\n",
    "from pydantic import BaseModel\n",
    "\n",
    "from timestep.config import Settings\n",
    "\n",
    "settings = Settings()"
   ]
  },
  {
   "cell_type": "code",
   "execution_count": 2,
   "metadata": {},
   "outputs": [],
   "source": [
    "client = OpenAI(\n",
    "    api_key=os.getenv(\"OPENAI_API_KEY\", settings.openai_api_key),\n",
    "    base_url=os.getenv(\"OPENAI_BASE_URL\", settings.openai_base_url),\n",
    ")\n",
    "\n",
    "marvin.settings.openai.api_key = settings.openai_api_key\n",
    "marvin.settings.openai.base_url = settings.openai_base_url"
   ]
  },
  {
   "cell_type": "code",
   "execution_count": 3,
   "metadata": {},
   "outputs": [],
   "source": [
    "# --- define a structured state model for the application\n",
    "class ToDo(BaseModel):\n",
    "    name: str\n",
    "    due: datetime\n",
    "    done: bool = False\n",
    "\n",
    "class ToDoState(BaseModel):\n",
    "    todos: list[ToDo] = []"
   ]
  },
  {
   "cell_type": "code",
   "execution_count": 4,
   "metadata": {},
   "outputs": [],
   "source": [
    "# --- create the application\n",
    "todo_app = Application(\n",
    "    name=\"ToDo App\",\n",
    "    instructions=\"A todo application\",\n",
    "    state=ToDoState(),\n",
    "    tools=[CodeInterpreter],\n",
    ")\n",
    "\n",
    "assert isinstance(todo_app, Application)\n",
    "assert isinstance(todo_app, Assistant)"
   ]
  },
  {
   "cell_type": "code",
   "execution_count": 5,
   "metadata": {},
   "outputs": [],
   "source": [
    "# --- interact with the application\n",
    "\n",
    "# create some todos\n",
    "run: Run = todo_app.say(\"Get me a job by Friday, September 13th, 2024\", event_handler_class=None)\n",
    "print(f\"run: {run}\")\n",
    "print(f\"run.messages: {run.messages}\")\n",
    "print(f\"run.steps: {run.steps}\")\n",
    "\n",
    "# todo_app.say(\"I need to write documentation for applications at 4\")\n",
    "\n",
    "# # finish one of them\n",
    "# todo_app.say(\"I finished the docs\")\n",
    "\n",
    "# # ask a question\n",
    "# todo_app.say(\"Show me my todos\")\n",
    "\n",
    "# # print the entire thread\n",
    "# pprint_messages(todo_app.default_thread.get_messages())"
   ]
  },
  {
   "cell_type": "code",
   "execution_count": null,
   "metadata": {},
   "outputs": [],
   "source": [
    "openairun = run.run\n",
    "openairun"
   ]
  },
  {
   "cell_type": "code",
   "execution_count": null,
   "metadata": {},
   "outputs": [],
   "source": [
    "for message in run.messages:\n",
    "    print(f\"message: {message}\")"
   ]
  },
  {
   "cell_type": "code",
   "execution_count": null,
   "metadata": {},
   "outputs": [],
   "source": [
    "# run = client.beta.threads.runs.create_and_poll(\n",
    "#   thread_id=run.thread.id,\n",
    "#   assistant_id=run.run.assistant_id,\n",
    "#   instructions=\"Please address the user as Jane Doe. The user has a premium account.\"\n",
    "# )\n",
    "# run"
   ]
  },
  {
   "cell_type": "code",
   "execution_count": null,
   "metadata": {},
   "outputs": [],
   "source": []
  }
 ],
 "metadata": {
  "kernelspec": {
   "display_name": ".venv",
   "language": "python",
   "name": "python3"
  },
  "language_info": {
   "codemirror_mode": {
    "name": "ipython",
    "version": 3
   },
   "file_extension": ".py",
   "mimetype": "text/x-python",
   "name": "python",
   "nbconvert_exporter": "python",
   "pygments_lexer": "ipython3",
   "version": "3.10.14"
  }
 },
 "nbformat": 4,
 "nbformat_minor": 2
}
