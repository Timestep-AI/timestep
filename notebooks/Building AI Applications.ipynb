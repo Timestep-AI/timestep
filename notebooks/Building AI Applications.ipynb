{
 "cells": [
  {
   "cell_type": "markdown",
   "metadata": {},
   "source": [
    "# Building AI Applications\n",
    "\n",
    "This example was copied and modified from https://www.askmarvin.ai/docs/interactive/applications/."
   ]
  },
  {
   "cell_type": "code",
   "execution_count": 1,
   "metadata": {},
   "outputs": [],
   "source": [
    "from datetime import datetime\n",
    "\n",
    "import marvin\n",
    "from marvin.beta import Application\n",
    "from marvin.beta.assistants import Assistant, CodeInterpreter, pprint_messages\n",
    "from pydantic import BaseModel\n",
    "\n",
    "from timestep.config import Settings\n",
    "\n",
    "settings = Settings()"
   ]
  },
  {
   "cell_type": "code",
   "execution_count": 2,
   "metadata": {},
   "outputs": [],
   "source": [
    "marvin.settings.openai.api_key = settings.openai_api_key\n",
    "marvin.settings.openai.base_url = settings.openai_base_url"
   ]
  },
  {
   "cell_type": "code",
   "execution_count": 3,
   "metadata": {},
   "outputs": [],
   "source": [
    "# --- define a structured state model for the application\n",
    "class ToDo(BaseModel):\n",
    "    name: str\n",
    "    due: datetime\n",
    "    done: bool = False\n",
    "\n",
    "class ToDoState(BaseModel):\n",
    "    todos: list[ToDo] = []"
   ]
  },
  {
   "cell_type": "code",
   "execution_count": 4,
   "metadata": {},
   "outputs": [],
   "source": [
    "# --- create the application\n",
    "todo_app = Application(\n",
    "    name=\"ToDo App\",\n",
    "    instructions=\"A todo application\",\n",
    "    state=ToDoState(),\n",
    "    tools=[CodeInterpreter],\n",
    ")\n",
    "\n",
    "assert isinstance(todo_app, Application)\n",
    "assert isinstance(todo_app, Assistant)"
   ]
  },
  {
   "cell_type": "code",
   "execution_count": 5,
   "metadata": {},
   "outputs": [
    {
     "data": {
      "application/vnd.jupyter.widget-view+json": {
       "model_id": "f46b4fb8f71d4d1ab1cb4a348a496871",
       "version_major": 2,
       "version_minor": 0
      },
      "text/plain": [
       "Output()"
      ]
     },
     "metadata": {},
     "output_type": "display_data"
    },
    {
     "data": {
      "text/html": [
       "<pre style=\"white-space:pre;overflow-x:auto;line-height:normal;font-family:Menlo,'DejaVu Sans Mono',consolas,'Courier New',monospace\"></pre>\n"
      ],
      "text/plain": []
     },
     "metadata": {},
     "output_type": "display_data"
    },
    {
     "data": {
      "application/vnd.jupyter.widget-view+json": {
       "model_id": "eb03a1b9c011463e9a3ccd3404518674",
       "version_major": 2,
       "version_minor": 0
      },
      "text/plain": [
       "Output()"
      ]
     },
     "metadata": {},
     "output_type": "display_data"
    },
    {
     "data": {
      "text/html": [
       "<pre style=\"white-space:pre;overflow-x:auto;line-height:normal;font-family:Menlo,'DejaVu Sans Mono',consolas,'Courier New',monospace\"></pre>\n"
      ],
      "text/plain": []
     },
     "metadata": {},
     "output_type": "display_data"
    },
    {
     "data": {
      "application/vnd.jupyter.widget-view+json": {
       "model_id": "28c71f42bf4641a5ae3246242200af57",
       "version_major": 2,
       "version_minor": 0
      },
      "text/plain": [
       "Output()"
      ]
     },
     "metadata": {},
     "output_type": "display_data"
    },
    {
     "data": {
      "text/html": [
       "<pre style=\"white-space:pre;overflow-x:auto;line-height:normal;font-family:Menlo,'DejaVu Sans Mono',consolas,'Courier New',monospace\"></pre>\n"
      ],
      "text/plain": []
     },
     "metadata": {},
     "output_type": "display_data"
    },
    {
     "data": {
      "application/vnd.jupyter.widget-view+json": {
       "model_id": "a6797f591bcc40588e130b3ba3d3e5f6",
       "version_major": 2,
       "version_minor": 0
      },
      "text/plain": [
       "Output()"
      ]
     },
     "metadata": {},
     "output_type": "display_data"
    },
    {
     "data": {
      "text/html": [
       "<pre style=\"white-space:pre;overflow-x:auto;line-height:normal;font-family:Menlo,'DejaVu Sans Mono',consolas,'Courier New',monospace\"></pre>\n"
      ],
      "text/plain": []
     },
     "metadata": {},
     "output_type": "display_data"
    },
    {
     "data": {
      "text/html": [
       "<pre style=\"white-space:pre;overflow-x:auto;line-height:normal;font-family:Menlo,'DejaVu Sans Mono',consolas,'Courier New',monospace\"><span style=\"color: #008000; text-decoration-color: #008000\">╭─ </span><span style=\"color: #008000; text-decoration-color: #008000; font-weight: bold\">User</span><span style=\"color: #008000; text-decoration-color: #008000\"> ───────────────────────────────────────────────────────────────────────────────────────────╮</span>\n",
       "<span style=\"color: #008000; text-decoration-color: #008000\">│</span>                                                                                                  <span style=\"color: #008000; text-decoration-color: #008000\">│</span>\n",
       "<span style=\"color: #008000; text-decoration-color: #008000\">│</span>  I need to go to the store tomorrow afternoon                                                    <span style=\"color: #008000; text-decoration-color: #008000\">│</span>\n",
       "<span style=\"color: #008000; text-decoration-color: #008000\">│</span>                                                                                                  <span style=\"color: #008000; text-decoration-color: #008000\">│</span>\n",
       "<span style=\"color: #008000; text-decoration-color: #008000\">╰──────────────────────────────────────────────────────────────────────────────────── </span><span style=\"color: #008000; text-decoration-color: #008000; font-style: italic\"> 1:56:34 AM</span><span style=\"color: #008000; text-decoration-color: #008000\"> ─╯</span>\n",
       "</pre>\n"
      ],
      "text/plain": [
       "\u001b[32m╭─\u001b[0m\u001b[32m \u001b[0m\u001b[1;32mUser\u001b[0m\u001b[32m \u001b[0m\u001b[32m──────────────────────────────────────────────────────────────────────────────────────────\u001b[0m\u001b[32m─╮\u001b[0m\n",
       "\u001b[32m│\u001b[0m                                                                                                  \u001b[32m│\u001b[0m\n",
       "\u001b[32m│\u001b[0m  I need to go to the store tomorrow afternoon                                                    \u001b[32m│\u001b[0m\n",
       "\u001b[32m│\u001b[0m                                                                                                  \u001b[32m│\u001b[0m\n",
       "\u001b[32m╰─\u001b[0m\u001b[32m───────────────────────────────────────────────────────────────────────────────────\u001b[0m\u001b[32m \u001b[0m\u001b[3;32m 1:56:34 AM\u001b[0m\u001b[32m \u001b[0m\u001b[32m─╯\u001b[0m\n"
      ]
     },
     "metadata": {},
     "output_type": "display_data"
    },
    {
     "data": {
      "text/html": [
       "<pre style=\"white-space:pre;overflow-x:auto;line-height:normal;font-family:Menlo,'DejaVu Sans Mono',consolas,'Courier New',monospace\"><span style=\"color: #008000; text-decoration-color: #008000\">╭─ </span><span style=\"color: #008000; text-decoration-color: #008000; font-weight: bold\">User</span><span style=\"color: #008000; text-decoration-color: #008000\"> ───────────────────────────────────────────────────────────────────────────────────────────╮</span>\n",
       "<span style=\"color: #008000; text-decoration-color: #008000\">│</span>                                                                                                  <span style=\"color: #008000; text-decoration-color: #008000\">│</span>\n",
       "<span style=\"color: #008000; text-decoration-color: #008000\">│</span>  I need to write documentation for applications at 4                                             <span style=\"color: #008000; text-decoration-color: #008000\">│</span>\n",
       "<span style=\"color: #008000; text-decoration-color: #008000\">│</span>                                                                                                  <span style=\"color: #008000; text-decoration-color: #008000\">│</span>\n",
       "<span style=\"color: #008000; text-decoration-color: #008000\">╰──────────────────────────────────────────────────────────────────────────────────── </span><span style=\"color: #008000; text-decoration-color: #008000; font-style: italic\"> 1:56:53 AM</span><span style=\"color: #008000; text-decoration-color: #008000\"> ─╯</span>\n",
       "</pre>\n"
      ],
      "text/plain": [
       "\u001b[32m╭─\u001b[0m\u001b[32m \u001b[0m\u001b[1;32mUser\u001b[0m\u001b[32m \u001b[0m\u001b[32m──────────────────────────────────────────────────────────────────────────────────────────\u001b[0m\u001b[32m─╮\u001b[0m\n",
       "\u001b[32m│\u001b[0m                                                                                                  \u001b[32m│\u001b[0m\n",
       "\u001b[32m│\u001b[0m  I need to write documentation for applications at 4                                             \u001b[32m│\u001b[0m\n",
       "\u001b[32m│\u001b[0m                                                                                                  \u001b[32m│\u001b[0m\n",
       "\u001b[32m╰─\u001b[0m\u001b[32m───────────────────────────────────────────────────────────────────────────────────\u001b[0m\u001b[32m \u001b[0m\u001b[3;32m 1:56:53 AM\u001b[0m\u001b[32m \u001b[0m\u001b[32m─╯\u001b[0m\n"
      ]
     },
     "metadata": {},
     "output_type": "display_data"
    },
    {
     "data": {
      "text/html": [
       "<pre style=\"white-space:pre;overflow-x:auto;line-height:normal;font-family:Menlo,'DejaVu Sans Mono',consolas,'Courier New',monospace\"><span style=\"color: #008000; text-decoration-color: #008000\">╭─ </span><span style=\"color: #008000; text-decoration-color: #008000; font-weight: bold\">User</span><span style=\"color: #008000; text-decoration-color: #008000\"> ───────────────────────────────────────────────────────────────────────────────────────────╮</span>\n",
       "<span style=\"color: #008000; text-decoration-color: #008000\">│</span>                                                                                                  <span style=\"color: #008000; text-decoration-color: #008000\">│</span>\n",
       "<span style=\"color: #008000; text-decoration-color: #008000\">│</span>  I finished the docs                                                                             <span style=\"color: #008000; text-decoration-color: #008000\">│</span>\n",
       "<span style=\"color: #008000; text-decoration-color: #008000\">│</span>                                                                                                  <span style=\"color: #008000; text-decoration-color: #008000\">│</span>\n",
       "<span style=\"color: #008000; text-decoration-color: #008000\">╰──────────────────────────────────────────────────────────────────────────────────── </span><span style=\"color: #008000; text-decoration-color: #008000; font-style: italic\"> 1:57:02 AM</span><span style=\"color: #008000; text-decoration-color: #008000\"> ─╯</span>\n",
       "</pre>\n"
      ],
      "text/plain": [
       "\u001b[32m╭─\u001b[0m\u001b[32m \u001b[0m\u001b[1;32mUser\u001b[0m\u001b[32m \u001b[0m\u001b[32m──────────────────────────────────────────────────────────────────────────────────────────\u001b[0m\u001b[32m─╮\u001b[0m\n",
       "\u001b[32m│\u001b[0m                                                                                                  \u001b[32m│\u001b[0m\n",
       "\u001b[32m│\u001b[0m  I finished the docs                                                                             \u001b[32m│\u001b[0m\n",
       "\u001b[32m│\u001b[0m                                                                                                  \u001b[32m│\u001b[0m\n",
       "\u001b[32m╰─\u001b[0m\u001b[32m───────────────────────────────────────────────────────────────────────────────────\u001b[0m\u001b[32m \u001b[0m\u001b[3;32m 1:57:02 AM\u001b[0m\u001b[32m \u001b[0m\u001b[32m─╯\u001b[0m\n"
      ]
     },
     "metadata": {},
     "output_type": "display_data"
    },
    {
     "data": {
      "text/html": [
       "<pre style=\"white-space:pre;overflow-x:auto;line-height:normal;font-family:Menlo,'DejaVu Sans Mono',consolas,'Courier New',monospace\"><span style=\"color: #008000; text-decoration-color: #008000\">╭─ </span><span style=\"color: #008000; text-decoration-color: #008000; font-weight: bold\">User</span><span style=\"color: #008000; text-decoration-color: #008000\"> ───────────────────────────────────────────────────────────────────────────────────────────╮</span>\n",
       "<span style=\"color: #008000; text-decoration-color: #008000\">│</span>                                                                                                  <span style=\"color: #008000; text-decoration-color: #008000\">│</span>\n",
       "<span style=\"color: #008000; text-decoration-color: #008000\">│</span>  Show me my todos                                                                                <span style=\"color: #008000; text-decoration-color: #008000\">│</span>\n",
       "<span style=\"color: #008000; text-decoration-color: #008000\">│</span>                                                                                                  <span style=\"color: #008000; text-decoration-color: #008000\">│</span>\n",
       "<span style=\"color: #008000; text-decoration-color: #008000\">╰──────────────────────────────────────────────────────────────────────────────────── </span><span style=\"color: #008000; text-decoration-color: #008000; font-style: italic\"> 1:57:13 AM</span><span style=\"color: #008000; text-decoration-color: #008000\"> ─╯</span>\n",
       "</pre>\n"
      ],
      "text/plain": [
       "\u001b[32m╭─\u001b[0m\u001b[32m \u001b[0m\u001b[1;32mUser\u001b[0m\u001b[32m \u001b[0m\u001b[32m──────────────────────────────────────────────────────────────────────────────────────────\u001b[0m\u001b[32m─╮\u001b[0m\n",
       "\u001b[32m│\u001b[0m                                                                                                  \u001b[32m│\u001b[0m\n",
       "\u001b[32m│\u001b[0m  Show me my todos                                                                                \u001b[32m│\u001b[0m\n",
       "\u001b[32m│\u001b[0m                                                                                                  \u001b[32m│\u001b[0m\n",
       "\u001b[32m╰─\u001b[0m\u001b[32m───────────────────────────────────────────────────────────────────────────────────\u001b[0m\u001b[32m \u001b[0m\u001b[3;32m 1:57:13 AM\u001b[0m\u001b[32m \u001b[0m\u001b[32m─╯\u001b[0m\n"
      ]
     },
     "metadata": {},
     "output_type": "display_data"
    }
   ],
   "source": [
    "# --- interact with the application\n",
    "\n",
    "# create some todos\n",
    "todo_app.say(\"I need to go to the store tomorrow afternoon\")\n",
    "todo_app.say(\"I need to write documentation for applications at 4\")\n",
    "\n",
    "# finish one of them\n",
    "todo_app.say(\"I finished the docs\")\n",
    "\n",
    "# ask a question\n",
    "todo_app.say(\"Show me my todos\")\n",
    "\n",
    "# print the entire thread\n",
    "pprint_messages(todo_app.default_thread.get_messages())"
   ]
  }
 ],
 "metadata": {
  "kernelspec": {
   "display_name": ".venv",
   "language": "python",
   "name": "python3"
  },
  "language_info": {
   "codemirror_mode": {
    "name": "ipython",
    "version": 3
   },
   "file_extension": ".py",
   "mimetype": "text/x-python",
   "name": "python",
   "nbconvert_exporter": "python",
   "pygments_lexer": "ipython3",
   "version": "3.10.14"
  }
 },
 "nbformat": 4,
 "nbformat_minor": 2
}
