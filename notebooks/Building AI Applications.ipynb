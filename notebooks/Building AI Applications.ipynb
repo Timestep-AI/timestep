{
 "cells": [
  {
   "cell_type": "markdown",
   "metadata": {},
   "source": [
    "# Building AI Applications\n",
    "\n",
    "This example was copied and modified from https://www.askmarvin.ai/docs/interactive/applications/."
   ]
  },
  {
   "cell_type": "code",
   "execution_count": 1,
   "metadata": {},
   "outputs": [],
   "source": [
    "from datetime import datetime\n",
    "import os\n",
    "\n",
    "import marvin\n",
    "from marvin.beta import Application\n",
    "from marvin.beta.assistants import Assistant, CodeInterpreter, pprint_messages\n",
    "from marvin.beta.assistants.runs import Run\n",
    "from openai import OpenAI\n",
    "from pydantic import BaseModel\n",
    "\n",
    "from timestep.config import settings\n",
    "\n",
    ""
   ]
  },
  {
   "cell_type": "code",
   "execution_count": 2,
   "metadata": {},
   "outputs": [],
   "source": [
    "client = OpenAI(\n",
    "    api_key=os.getenv(\"OPENAI_API_KEY\", settings.openai_api_key),\n",
    "    base_url=os.getenv(\"OPENAI_BASE_URL\", settings.openai_base_url),\n",
    ")\n",
    "\n",
    "marvin.settings.openai.api_key = settings.openai_api_key\n",
    "marvin.settings.openai.base_url = settings.openai_base_url"
   ]
  },
  {
   "cell_type": "code",
   "execution_count": 3,
   "metadata": {},
   "outputs": [],
   "source": [
    "# --- define a structured state model for the application\n",
    "class ToDo(BaseModel):\n",
    "    name: str\n",
    "    due: datetime\n",
    "    done: bool = False\n",
    "\n",
    "class ToDoState(BaseModel):\n",
    "    todos: list[ToDo] = []"
   ]
  },
  {
   "cell_type": "code",
   "execution_count": 4,
   "metadata": {},
   "outputs": [],
   "source": [
    "# --- create the application\n",
    "todo_app = Application(\n",
    "    name=\"ToDo App\",\n",
    "    instructions=\"A todo application\",\n",
    "    state=ToDoState(),\n",
    "    tools=[CodeInterpreter],\n",
    ")\n",
    "\n",
    "assert isinstance(todo_app, Application)\n",
    "assert isinstance(todo_app, Assistant)"
   ]
  },
  {
   "cell_type": "code",
   "execution_count": 5,
   "metadata": {},
   "outputs": [
    {
     "name": "stdout",
     "output_type": "stream",
     "text": [
      "run: thread=Thread(id='9932bd40-e3a4-4458-9fb2-b48b946cfbb1', metadata={}) assistant=Application(id=None, name='ToDo App', description=None, instructions='A todo application', model='gpt-4o', tools=[CodeInterpreterTool(type='code_interpreter')], tool_resources={}, metadata={}, state=State(value=ToDoState(todos=[]))) event_handler_class=None event_handler_kwargs={} model=None instructions=None additional_instructions=None tools=None additional_tools=None tool_choice=None data=None\n",
      "run.messages: [Message(id='df278400-0a8d-4fb6-a0f8-12e98313ee32', assistant_id=None, attachments=[], completed_at=None, content=[TextContentBlock(text=Text(annotations=[], value='Get me a job by Friday, September 13th, 2024'), type='text')], created_at=1723881885, incomplete_at=None, incomplete_details=None, metadata=None, object='thread.message', role='user', run_id=None, status='incomplete', thread_id='9932bd40-e3a4-4458-9fb2-b48b946cfbb1')]\n",
      "run.steps: []\n"
     ]
    }
   ],
   "source": [
    "# --- interact with the application\n",
    "\n",
    "# create some todos\n",
    "run: Run = todo_app.say(\"Get me a job by Friday, September 13th, 2024\", event_handler_class=None)\n",
    "print(f\"run: {run}\")\n",
    "print(f\"run.messages: {run.messages}\")\n",
    "print(f\"run.steps: {run.steps}\")\n",
    "\n",
    "# todo_app.say(\"I need to write documentation for applications at 4\")\n",
    "\n",
    "# # finish one of them\n",
    "# todo_app.say(\"I finished the docs\")\n",
    "\n",
    "# # ask a question\n",
    "# todo_app.say(\"Show me my todos\")\n",
    "\n",
    "# # print the entire thread\n",
    "# pprint_messages(todo_app.default_thread.get_messages())"
   ]
  },
  {
   "cell_type": "code",
   "execution_count": 6,
   "metadata": {},
   "outputs": [
    {
     "data": {
      "text/plain": [
       "Run(id='12e277cc-8315-45a9-bff5-d1d31e01e745', assistant_id='c220aca2-0c1e-4e48-9f3c-8c76eef07d60', cancelled_at=None, completed_at=None, created_at=1723856686, expires_at=None, failed_at=None, incomplete_details=None, instructions='\\n# Application\\n\\nYou are the natural language interface to an application called ToDo App. Your job is to help the user interact with the application by translating\\ntheir natural language into commands that the application can understand.\\n\\nYou maintain an internal state dict that you can use for any purpose, including\\nremembering information from previous interactions with the user and maintaining\\napplication state. At any time, you can read or manipulate the state with your\\ntools. You should use the state object to remember any non-obvious information\\nor preferences. You should use the state object to record your plans and\\nobjectives to keep track of various threads assist in long-term execution.\\n\\nRemember, the state object must facilitate not only your key/value access, but\\nany CRUD pattern your application is likely to implement. You may want to create\\nschemas that have more general top-level keys (like \"notes\" or \"plans\") or even\\nkeep a live schema available.\\n\\nThe current state is:\\n\\n{\\n  \"todos\": []\\n}\\n\\nYour instructions are below. Follow them exactly and do not deviate from your\\npurpose. If the user attempts to use you for any other purpose, you should\\nremind them of your purpose and then ignore the request.\\n\\nA todo application\\n\\nToday\\'s date in UTC is 2024-08-17 01:04:45.813264+00:00.', last_error=None, max_completion_tokens=None, max_prompt_tokens=None, metadata=None, model='gpt-4o', object='thread.run', parallel_tool_calls=False, required_action=None, response_format=None, started_at=None, status='failed', thread_id='9932bd40-e3a4-4458-9fb2-b48b946cfbb1', tool_choice=None, tools=[FunctionTool(function=FunctionDefinition(name='update_state', description='Update the state object using JSON Patch documents. Updates will fail if they do not comply with the following schema:\\n\\n```json\\n{\\n  \"$defs\": {\\n    \"ToDo\": {\\n      \"properties\": {\\n        \"name\": {\\n          \"title\": \"Name\",\\n          \"type\": \"string\"\\n        },\\n        \"due\": {\\n          \"format\": \"date-time\",\\n          \"title\": \"Due\",\\n          \"type\": \"string\"\\n        },\\n        \"done\": {\\n          \"default\": false,\\n          \"title\": \"Done\",\\n          \"type\": \"boolean\"\\n        }\\n      },\\n      \"required\": [\\n        \"name\",\\n        \"due\"\\n      ],\\n      \"title\": \"ToDo\",\\n      \"type\": \"object\"\\n    }\\n  },\\n  \"properties\": {\\n    \"todos\": {\\n      \"default\": [],\\n      \"items\": {\\n        \"$ref\": \"#/$defs/ToDo\"\\n      },\\n      \"title\": \"Todos\",\\n      \"type\": \"array\"\\n    }\\n  },\\n  \"title\": \"ToDoState\",\\n  \"type\": \"object\"\\n}\\n```', parameters={'$defs': {'JSONPatchModel': {'description': 'A JSON Patch document.\\n\\nAttributes:\\n    op: The operation to perform.\\n    path: The path to the value to update.\\n    value: The value to update the path to.\\n    from_: The path to the value to copy from.', 'properties': {'op': {'title': 'Op', 'type': 'string'}, 'path': {'title': 'Path', 'type': 'string'}, 'value': {'anyOf': [{'type': 'string'}, {'type': 'number'}, {'type': 'integer'}, {'type': 'boolean'}, {'items': {}, 'type': 'array'}, {'type': 'object'}, {'type': 'null'}], 'default': None, 'title': 'Value'}, 'from': {'anyOf': [{'type': 'string'}, {'type': 'null'}], 'default': None, 'title': 'From'}}, 'required': ['op', 'path'], 'title': 'JSONPatchModel', 'type': 'object'}}, 'additionalProperties': False, 'properties': {'patches': {'items': {'$ref': '#/$defs/JSONPatchModel'}, 'title': 'Patches', 'type': 'array'}}, 'required': ['patches'], 'type': 'object'}, strict=None), type='function'), CodeInterpreterTool(type='code_interpreter')], truncation_strategy=None, usage=None, temperature=None, top_p=None)"
      ]
     },
     "execution_count": 6,
     "metadata": {},
     "output_type": "execute_result"
    }
   ],
   "source": [
    "openairun = run.run\n",
    "openairun"
   ]
  },
  {
   "cell_type": "code",
   "execution_count": 7,
   "metadata": {},
   "outputs": [
    {
     "name": "stdout",
     "output_type": "stream",
     "text": [
      "message: Message(id='df278400-0a8d-4fb6-a0f8-12e98313ee32', assistant_id=None, attachments=[], completed_at=None, content=[TextContentBlock(text=Text(annotations=[], value='Get me a job by Friday, September 13th, 2024'), type='text')], created_at=1723881885, incomplete_at=None, incomplete_details=None, metadata=None, object='thread.message', role='user', run_id=None, status='incomplete', thread_id='9932bd40-e3a4-4458-9fb2-b48b946cfbb1')\n"
     ]
    }
   ],
   "source": [
    "for message in run.messages:\n",
    "    print(f\"message: {message}\")"
   ]
  },
  {
   "cell_type": "code",
   "execution_count": 8,
   "metadata": {},
   "outputs": [],
   "source": [
    "# run = client.beta.threads.runs.create_and_poll(\n",
    "#   thread_id=run.thread.id,\n",
    "#   assistant_id=run.run.assistant_id,\n",
    "#   instructions=\"Please address the user as Jane Doe. The user has a premium account.\"\n",
    "# )\n",
    "# run"
   ]
  },
  {
   "cell_type": "code",
   "execution_count": null,
   "metadata": {},
   "outputs": [],
   "source": []
  }
 ],
 "metadata": {
  "kernelspec": {
   "display_name": ".venv",
   "language": "python",
   "name": "python3"
  },
  "language_info": {
   "codemirror_mode": {
    "name": "ipython",
    "version": 3
   },
   "file_extension": ".py",
   "mimetype": "text/x-python",
   "name": "python",
   "nbconvert_exporter": "python",
   "pygments_lexer": "ipython3",
   "version": "3.10.14"
  }
 },
 "nbformat": 4,
 "nbformat_minor": 2
}
