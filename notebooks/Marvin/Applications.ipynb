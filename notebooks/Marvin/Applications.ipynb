{
 "cells": [
  {
   "cell_type": "markdown",
   "metadata": {},
   "source": [
    "# Marvin Applications Example\n",
    "\n",
    "This example was copied and modified from https://www.askmarvin.ai/docs/interactive/applications/."
   ]
  },
  {
   "cell_type": "code",
   "execution_count": null,
   "metadata": {},
   "outputs": [],
   "source": [
    "from datetime import datetime\n",
    "\n",
    "from marvin.beta import Application\n",
    "from marvin.beta.assistants import pprint_messages\n",
    "from pydantic import BaseModel"
   ]
  },
  {
   "cell_type": "code",
   "execution_count": null,
   "metadata": {},
   "outputs": [],
   "source": [
    "# --- define a structured state model for the application\n",
    "class ToDo(BaseModel):\n",
    "    name: str\n",
    "    due: datetime\n",
    "    done: bool = False\n",
    "\n",
    "class ToDoState(BaseModel):\n",
    "    todos: list[ToDo] = []"
   ]
  },
  {
   "cell_type": "code",
   "execution_count": null,
   "metadata": {},
   "outputs": [],
   "source": [
    "# --- create the application\n",
    "todo_app = Application(\n",
    "    name=\"ToDo App\", instructions=\"A todo application\", state=ToDoState()\n",
    ")"
   ]
  },
  {
   "cell_type": "code",
   "execution_count": null,
   "metadata": {},
   "outputs": [],
   "source": [
    "# --- interact with the application\n",
    "\n",
    "# create some todos\n",
    "todo_app.say(\"I need to go to the store tomorrow afternoon\")\n",
    "todo_app.say(\"I need to write documentation for applications at 4\")\n",
    "\n",
    "# finish one of them\n",
    "todo_app.say(\"I finished the docs\")\n",
    "\n",
    "# ask a question\n",
    "todo_app.say(\"Show me my todos\")\n",
    "\n",
    "# print the entire thread\n",
    "pprint_messages(todo_app.default_thread.get_messages())"
   ]
  }
 ],
 "metadata": {
  "kernelspec": {
   "display_name": ".venv",
   "language": "python",
   "name": "python3"
  },
  "language_info": {
   "codemirror_mode": {
    "name": "ipython",
    "version": 3
   },
   "file_extension": ".py",
   "mimetype": "text/x-python",
   "name": "python",
   "nbconvert_exporter": "python",
   "pygments_lexer": "ipython3",
   "version": "3.10.14"
  }
 },
 "nbformat": 4,
 "nbformat_minor": 2
}
