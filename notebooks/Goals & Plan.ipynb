{
 "cells": [
  {
   "cell_type": "markdown",
   "metadata": {},
   "source": [
    "# Goals\n",
    "\n",
    "- 100% Code Coverage\n",
    "- Fully-compatible with [OpenAI's OpenAPI spec](https://github.com/openai/openai-openapi)\n",
    "- Fully-compliant with the [Agent Protocol](https://agentprotocol.ai/)\n",
    "- Runs on any platform\n",
    "- Scales with API/Cloud credentials over compute and storage"
   ]
  },
  {
   "cell_type": "markdown",
   "metadata": {},
   "source": [
    "# Plan\n",
    "\n",
    "- Get the [Assistants API Overview notebook](./Assistants%20API%20Overview.ipynb) working from top to bottom and matching the original outputs\n",
    "- Get the [Building AI Applications notebook](./Building%20AI%20Applications.ipynb) working from top to bottom\n",
    "- Get the [Fine-tuning for Tool-calling notebook](./Fine-tuning%20for%20Tool-calling.ipynb) working\n",
    "- Finish the following API Controllers\n",
    "    - Agent\n",
    "    - Assistants\n",
    "    - Chat/Completions\n",
    "    - Embeddings\n",
    "    - Engines\n",
    "    - Files\n",
    "    - Fine-tuning\n",
    "    - Images\n",
    "    - Models\n",
    "    - Moderations\n",
    "    - Security\n",
    "    - Vector Stores"
   ]
  }
 ],
 "metadata": {
  "kernelspec": {
   "display_name": ".venv",
   "language": "python",
   "name": "python3"
  },
  "language_info": {
   "name": "python",
   "version": "3.10.14"
  }
 },
 "nbformat": 4,
 "nbformat_minor": 2
}
