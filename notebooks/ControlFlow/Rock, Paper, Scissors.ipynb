{
 "cells": [
  {
   "cell_type": "markdown",
   "metadata": {},
   "source": [
    "# ControlFlow Rock, Paper, Scissors Example\n",
    "\n",
    "This example was copied and modified from https://controlflow.ai/examples/rock-paper-scissors."
   ]
  },
  {
   "cell_type": "code",
   "execution_count": null,
   "metadata": {},
   "outputs": [],
   "source": [
    "import controlflow as cf"
   ]
  },
  {
   "cell_type": "code",
   "execution_count": null,
   "metadata": {},
   "outputs": [],
   "source": [
    "# Create an agent to privately collect the user's score\n",
    "\n",
    "user_helper = cf.Agent(\n",
    "    \"RPS Helper\",\n",
    "    instructions=\"\"\"\n",
    "        Get the user's choice of rock, paper, or scissors. \n",
    "        You can assure them that you won't share their answer \n",
    "        with the AI opponent.\n",
    "        \"\"\",\n",
    ")"
   ]
  },
  {
   "cell_type": "code",
   "execution_count": null,
   "metadata": {},
   "outputs": [],
   "source": [
    "# Create tasks for getting the user's choice, \n",
    "# the AI's choice, and reporting the score\n",
    "\n",
    "@cf.task(user_access=True, agents=[user_helper])\n",
    "def get_user_choice() -> [\"rock\", \"paper\", \"scissors\"]:\n",
    "    \"\"\"Ask the user to choose rock, paper, or scissors.\"\"\"\n",
    "\n",
    "@cf.task\n",
    "def get_ai_choice() -> [\"rock\", \"paper\", \"scissors\"]:\n",
    "    \"\"\"Choose rock paper or scissors\"\"\"\n",
    "\n",
    "@cf.task(user_access=True)\n",
    "def report_score(user_choice, ai_choice) -> bool:\n",
    "    \"\"\"\n",
    "    Tell the user if they won, the overall score, \n",
    "    then find out if they want to play again.\n",
    "    \"\"\""
   ]
  },
  {
   "cell_type": "code",
   "execution_count": null,
   "metadata": {},
   "outputs": [],
   "source": [
    "@cf.flow\n",
    "def rock_paper_scissors():\n",
    "    keep_playing = True\n",
    "\n",
    "    # keep playing as long as the user wants\n",
    "    while keep_playing:\n",
    "        \n",
    "        # use a nested flow to keep the user's choice private\n",
    "        with cf.Flow():\n",
    "            user_choice = get_user_choice()\n",
    "\n",
    "        # get the ai's choice\n",
    "        ai_choice = get_ai_choice()\n",
    "\n",
    "        # report the score and ask if the user wants to play again\n",
    "        keep_playing = report_score(user_choice, ai_choice)"
   ]
  },
  {
   "cell_type": "code",
   "execution_count": null,
   "metadata": {},
   "outputs": [],
   "source": [
    "if __name__ == \"__main__\":\n",
    "    rock_paper_scissors()"
   ]
  }
 ],
 "metadata": {
  "kernelspec": {
   "display_name": ".venv",
   "language": "python",
   "name": "python3"
  },
  "language_info": {
   "codemirror_mode": {
    "name": "ipython",
    "version": 3
   },
   "file_extension": ".py",
   "mimetype": "text/x-python",
   "name": "python",
   "nbconvert_exporter": "python",
   "pygments_lexer": "ipython3",
   "version": "3.10.14"
  }
 },
 "nbformat": 4,
 "nbformat_minor": 2
}
