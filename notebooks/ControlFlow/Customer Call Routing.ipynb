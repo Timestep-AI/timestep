{
 "cells": [
  {
   "cell_type": "markdown",
   "metadata": {},
   "source": [
    "# ControlFlow Customer Call Routing Example\n",
    "\n",
    "This example was copied and modified from https://controlflow.ai/examples/call-routing."
   ]
  },
  {
   "cell_type": "code",
   "execution_count": null,
   "metadata": {},
   "outputs": [],
   "source": [
    "from enum import Enum\n",
    "import random\n",
    "\n",
    "import controlflow as cf"
   ]
  },
  {
   "cell_type": "code",
   "execution_count": null,
   "metadata": {},
   "outputs": [],
   "source": [
    "import os\n",
    "from langchain_openai import ChatOpenAI\n",
    "\n",
    "# set the default model\n",
    "cf.default_model = ChatOpenAI(\n",
    "    api_key=os.environ.get(\"OPENAI_API_KEY\"),\n",
    "    base_url=os.environ.get(\"OPENAI_BASE_URL\"),\n",
    "    temperature=0.0,\n",
    ")\n",
    "\n",
    "assert cf.Agent('Marvin').get_model().openai_api_base == os.environ.get('OPENAI_BASE_URL'), f\"{cf.Agent('Marvin').get_model().openai_api_base} != {os.environ.get('OPENAI_BASE_URL')}\""
   ]
  },
  {
   "cell_type": "code",
   "execution_count": null,
   "metadata": {},
   "outputs": [],
   "source": [
    "class Department(Enum):\n",
    "    BILLING = \"billing\"\n",
    "    RETURNS = \"returns\"\n",
    "    SALES = \"sales\"\n",
    "    SUPPORT = \"support\"\n",
    "    TECHNICAL = \"technical\""
   ]
  },
  {
   "cell_type": "code",
   "execution_count": null,
   "metadata": {},
   "outputs": [],
   "source": [
    "@cf.flow\n",
    "def routing_flow():\n",
    "    department = random.choice(list(Department))\n",
    "\n",
    "    # create an agent to be our \"customer\"\n",
    "    customer = cf.Agent(\n",
    "        \"Customer\",\n",
    "        instructions=f\"\"\"\n",
    "            You are training customer reps by pretending to be a customer\n",
    "            calling into a call center. You need to be routed to the\n",
    "            {department} department. Come up with a good backstory.\"\"\",\n",
    "    )\n",
    "\n",
    "    # assert customer.get_model().openai_api_base == os.environ.get('OPENAI_BASE_URL'), f\"{customer.get_model().openai_api_base} != {os.environ.get('OPENAI_BASE_URL')}\"\n",
    "\n",
    "    # create an agent to be our \"trainee\"\n",
    "    trainee = cf.Agent(\n",
    "        \"Trainee\",\n",
    "        instructions=\"\"\"\n",
    "            You are a trainee customer service representative. You need to\n",
    "            listen to the customer's story and route them to the correct\n",
    "            department. Note that the customer is another agent training you.\"\"\",\n",
    "    )\n",
    "\n",
    "    # assert trainee.get_model().openai_api_base == os.environ.get('OPENAI_BASE_URL'), f\"{trainee.get_model().openai_api_base} != {os.environ.get('OPENAI_BASE_URL')}\"\n",
    "\n",
    "    # create a task for the agents to perform\n",
    "    task = cf.Task(\n",
    "        \"\"\"\n",
    "        In this task, the customer agent and the trainee agent will speak to\n",
    "        each other. The customer is trying to be routed to the correct\n",
    "        department. The trainee will listen and ask questions to determine the\n",
    "        correct department. \n",
    "        \"\"\",\n",
    "        instructions=\"\"\"\n",
    "        Only the trainee can mark the task successful by routing the customer to\n",
    "        the correct department. The trainee must begin the conversation by\n",
    "        greeting the customer. Agents speak to each other by posting messages\n",
    "        directly to the thread. Do not use the `end_turn` tool or try to talk \n",
    "        to a user.\n",
    "        \"\"\",\n",
    "        agents=[trainee, customer],\n",
    "        result_type=Department,\n",
    "    )\n",
    "\n",
    "    routed_department = task.run()\n",
    "\n",
    "    if routed_department == department:\n",
    "        print(\"Success! The customer was routed to the correct department.\")\n",
    "\n",
    "    else:\n",
    "        print(\n",
    "            \"Failed. The customer was routed to the wrong department. \"\n",
    "            f\"The correct department was {department}.\"\n",
    "        )"
   ]
  },
  {
   "cell_type": "code",
   "execution_count": null,
   "metadata": {},
   "outputs": [],
   "source": [
    "if __name__ == \"__main__\":\n",
    "    routing_flow()"
   ]
  }
 ],
 "metadata": {
  "kernelspec": {
   "display_name": ".venv",
   "language": "python",
   "name": "python3"
  },
  "language_info": {
   "codemirror_mode": {
    "name": "ipython",
    "version": 3
   },
   "file_extension": ".py",
   "mimetype": "text/x-python",
   "name": "python",
   "nbconvert_exporter": "python",
   "pygments_lexer": "ipython3",
   "version": "3.10.14"
  }
 },
 "nbformat": 4,
 "nbformat_minor": 2
}
