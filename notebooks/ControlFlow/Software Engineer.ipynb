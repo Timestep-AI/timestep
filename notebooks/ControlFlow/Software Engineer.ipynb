{
 "cells": [
  {
   "cell_type": "markdown",
   "metadata": {},
   "source": [
    "# Control Flow Software Engineer Example\n",
    "\n",
    "This example was copied and modified from https://controlflow.ai/examples/agent-engineer."
   ]
  },
  {
   "cell_type": "code",
   "execution_count": null,
   "metadata": {},
   "outputs": [],
   "source": [
    "from pathlib import Path\n",
    "\n",
    "import controlflow as cf\n",
    "import controlflow.tools.code\n",
    "import controlflow.tools.filesystem\n",
    "from pydantic import BaseModel"
   ]
  },
  {
   "cell_type": "code",
   "execution_count": null,
   "metadata": {},
   "outputs": [],
   "source": [
    "# load the instructions\n",
    "# instructions = open(Path(__file__).parent / \"instructions.md\").read()\n",
    "instructions = open(\"data/instructions.md\").read()"
   ]
  },
  {
   "cell_type": "code",
   "execution_count": null,
   "metadata": {},
   "outputs": [],
   "source": [
    "# create the agent\n",
    "agent = cf.Agent(\n",
    "    \"Engineer\",\n",
    "    instructions=instructions,\n",
    "    tools=[\n",
    "        *controlflow.tools.filesystem.ALL_TOOLS,\n",
    "        controlflow.tools.code.python,\n",
    "        controlflow.tools.code.shell,\n",
    "    ],\n",
    ")"
   ]
  },
  {
   "cell_type": "code",
   "execution_count": null,
   "metadata": {},
   "outputs": [],
   "source": [
    "class DesignDoc(BaseModel):\n",
    "    criteria: str\n",
    "    design: str\n",
    "    goals: str\n",
    "    implementation_details: str"
   ]
  },
  {
   "cell_type": "code",
   "execution_count": null,
   "metadata": {},
   "outputs": [],
   "source": [
    "@cf.flow\n",
    "def run_engineer():\n",
    "    # the first task is to work with the user to create a design doc\n",
    "    design_doc = cf.Task(\n",
    "        \"Learn about the software the user wants to build\",\n",
    "        instructions=\"\"\"\n",
    "                Interact with the user to understand the software they want to\n",
    "                build. What is its purpose? What language should you use? What does\n",
    "                it need to do? Engage in a natural conversation to collect as much\n",
    "                or as little information as the user wants to share. Once you have\n",
    "                enough, write out a design document to complete the task.\n",
    "                \"\"\",\n",
    "        user_access=True,\n",
    "        result_type=DesignDoc,\n",
    "    )\n",
    "\n",
    "    # next we create a directory for any files\n",
    "    mkdir = cf.Task(\n",
    "        \"Create a directory for the software\",\n",
    "        instructions=\"\"\"\n",
    "            Create a directory to store the software and any related files. The\n",
    "            directory should be named after the software. Return the path.\n",
    "            \"\"\",\n",
    "        result_type=str,\n",
    "        tools=[controlflow.tools.filesystem.mkdir],\n",
    "        agents=[agent],\n",
    "    )\n",
    "\n",
    "    # the final task is to write the software\n",
    "    software = cf.Task(\n",
    "        \"Finish the software\",\n",
    "        instructions=\"\"\"\n",
    "            Mark this task complete when the software runs as expected and the\n",
    "            user can invoke it. Until then, continue to build the software.\n",
    "\n",
    "            All files must be written to the provided root directory.\n",
    "            \"\"\",\n",
    "        result_type=None,\n",
    "        context=dict(design_doc=design_doc, root_dir=mkdir),\n",
    "        agents=[agent],\n",
    "    )\n",
    "\n",
    "    return software"
   ]
  },
  {
   "cell_type": "code",
   "execution_count": null,
   "metadata": {},
   "outputs": [],
   "source": [
    "if __name__ == \"__main__\":\n",
    "    run_engineer()"
   ]
  }
 ],
 "metadata": {
  "kernelspec": {
   "display_name": ".venv",
   "language": "python",
   "name": "python3"
  },
  "language_info": {
   "codemirror_mode": {
    "name": "ipython",
    "version": 3
   },
   "file_extension": ".py",
   "mimetype": "text/x-python",
   "name": "python",
   "nbconvert_exporter": "python",
   "pygments_lexer": "ipython3",
   "version": "3.10.14"
  }
 },
 "nbformat": 4,
 "nbformat_minor": 2
}
