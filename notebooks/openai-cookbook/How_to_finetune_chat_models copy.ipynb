{
 "cells": [
  {
   "cell_type": "code",
   "execution_count": 1,
   "id": "6e1f4403-37e1-4115-a215-12fd7daa1eb6",
   "metadata": {},
   "outputs": [],
   "source": [
    "import json\n",
    "import openai\n",
    "import os\n",
    "from pprint import pprint\n",
    "\n",
    "client = openai.OpenAI(api_key=os.environ.get(\"OPENAI_API_KEY\", \"<your OpenAI API key if not set as env var>\"), base_url=os.environ.get(\"OPENAI_BASE_URL\"))"
   ]
  },
  {
   "cell_type": "markdown",
   "id": "0d149e2e-50dd-45c1-bd8d-1291975670b4",
   "metadata": {},
   "source": [
    "### Upload files\n",
    "\n",
    "You can now upload the files to our `Files` endpoint to be used by the fine-tuned model.\n"
   ]
  },
  {
   "cell_type": "code",
   "execution_count": 2,
   "id": "69462d9e-e6bd-49b9-a064-9eae4ea5b7a8",
   "metadata": {},
   "outputs": [
    {
     "name": "stdout",
     "output_type": "stream",
     "text": [
      "Training file ID: 1da93207-4e9e-499a-bd0c-46fafc8f74d1\n"
     ]
    }
   ],
   "source": [
    "training_file_name = \"data/shakespeare.txt\"\n",
    "\n",
    "with open(training_file_name, \"rb\") as training_fd:\n",
    "    training_response = client.files.create(\n",
    "        file=training_fd, purpose=\"fine-tune\"\n",
    "    )\n",
    "\n",
    "training_file_id = training_response.id\n",
    "\n",
    "print(\"Training file ID:\", training_file_id)"
   ]
  },
  {
   "cell_type": "markdown",
   "id": "d61cd381-63ad-4ed9-b0be-47a438891028",
   "metadata": {},
   "source": [
    "## Fine-tuning\n",
    "\n",
    "Now we can create our fine-tuning job with the generated files and an optional suffix to identify the model. The response will contain an `id` which you can use to retrieve updates on the job.\n",
    "\n",
    "Note: The files have to first be processed by our system, so you might get a `File not ready` error. In that case, simply retry a few minutes later.\n"
   ]
  },
  {
   "cell_type": "code",
   "execution_count": 3,
   "id": "05541ceb-5628-447e-962d-7e57c112439c",
   "metadata": {},
   "outputs": [
    {
     "name": "stdout",
     "output_type": "stream",
     "text": [
      "Job ID: 6a5d25d5-df03-4720-8e2e-774dd27f822f\n",
      "Status: queued\n"
     ]
    }
   ],
   "source": [
    "response = client.fine_tuning.jobs.create(\n",
    "    model=\"OpenLLaMA-3Bv2\",\n",
    "    suffix=\"shakespeare\",\n",
    "    training_file=training_file_id,\n",
    ")\n",
    "\n",
    "job_id = response.id\n",
    "\n",
    "print(\"Job ID:\", response.id)\n",
    "print(\"Status:\", response.status)"
   ]
  },
  {
   "cell_type": "markdown",
   "id": "1de3ed71-f2d4-4138-95a3-70da187a007e",
   "metadata": {},
   "source": [
    "#### Check job status\n",
    "\n",
    "You can make a `GET` request to the `https://api.openai.com/v1/alpha/fine-tunes` endpoint to list your alpha fine-tune jobs. In this instance you'll want to check that the ID you got from the previous step ends up as `status: succeeded`.\n",
    "\n",
    "Once it is completed, you can use the `result_files` to sample the results from the validation set (if you uploaded one), and use the ID from the `fine_tuned_model` parameter to invoke your trained model.\n"
   ]
  },
  {
   "cell_type": "code",
   "execution_count": 4,
   "id": "d7392f48",
   "metadata": {},
   "outputs": [
    {
     "name": "stdout",
     "output_type": "stream",
     "text": [
      "Job ID: 6a5d25d5-df03-4720-8e2e-774dd27f822f\n",
      "Status: queued\n",
      "Trained Tokens: None\n"
     ]
    }
   ],
   "source": [
    "response = client.fine_tuning.jobs.retrieve(job_id)\n",
    "\n",
    "print(\"Job ID:\", response.id)\n",
    "print(\"Status:\", response.status)\n",
    "print(\"Trained Tokens:\", response.trained_tokens)\n"
   ]
  },
  {
   "cell_type": "markdown",
   "id": "30a57fbb",
   "metadata": {},
   "source": [
    "We can track the progress of the fine-tune with the events endpoint. You can rerun the cell below a few times until the fine-tune is ready.\n"
   ]
  },
  {
   "cell_type": "code",
   "execution_count": 5,
   "id": "08cace28",
   "metadata": {},
   "outputs": [
    {
     "name": "stdout",
     "output_type": "stream",
     "text": [
      "TODO: figure out what this messages should be...\n"
     ]
    }
   ],
   "source": [
    "response = client.fine_tuning.jobs.list_events(job_id)\n",
    "\n",
    "events = response.data\n",
    "events.reverse()\n",
    "\n",
    "for event in events:\n",
    "    print(event.message)"
   ]
  },
  {
   "cell_type": "markdown",
   "id": "d0da4e32",
   "metadata": {},
   "source": [
    "Now that it's done, we can get a fine-tuned model ID from the job:\n"
   ]
  },
  {
   "cell_type": "code",
   "execution_count": 6,
   "id": "40b28c26",
   "metadata": {},
   "outputs": [
    {
     "ename": "RuntimeError",
     "evalue": "Fine-tuned model ID not found. Your job has likely not been completed yet.",
     "output_type": "error",
     "traceback": [
      "\u001b[0;31m---------------------------------------------------------------------------\u001b[0m",
      "\u001b[0;31mRuntimeError\u001b[0m                              Traceback (most recent call last)",
      "Cell \u001b[0;32mIn[6], line 5\u001b[0m\n\u001b[1;32m      2\u001b[0m fine_tuned_model_id \u001b[38;5;241m=\u001b[39m response\u001b[38;5;241m.\u001b[39mfine_tuned_model\n\u001b[1;32m      4\u001b[0m \u001b[38;5;28;01mif\u001b[39;00m fine_tuned_model_id \u001b[38;5;129;01mis\u001b[39;00m \u001b[38;5;28;01mNone\u001b[39;00m: \n\u001b[0;32m----> 5\u001b[0m     \u001b[38;5;28;01mraise\u001b[39;00m \u001b[38;5;167;01mRuntimeError\u001b[39;00m(\u001b[38;5;124m\"\u001b[39m\u001b[38;5;124mFine-tuned model ID not found. Your job has likely not been completed yet.\u001b[39m\u001b[38;5;124m\"\u001b[39m)\n\u001b[1;32m      7\u001b[0m \u001b[38;5;28mprint\u001b[39m(\u001b[38;5;124m\"\u001b[39m\u001b[38;5;124mFine-tuned model ID:\u001b[39m\u001b[38;5;124m\"\u001b[39m, fine_tuned_model_id)\n",
      "\u001b[0;31mRuntimeError\u001b[0m: Fine-tuned model ID not found. Your job has likely not been completed yet."
     ]
    }
   ],
   "source": [
    "response = client.fine_tuning.jobs.retrieve(job_id)\n",
    "fine_tuned_model_id = response.fine_tuned_model\n",
    "\n",
    "if fine_tuned_model_id is None: \n",
    "    raise RuntimeError(\"Fine-tuned model ID not found. Your job has likely not been completed yet.\")\n",
    "\n",
    "print(\"Fine-tuned model ID:\", fine_tuned_model_id)"
   ]
  },
  {
   "cell_type": "markdown",
   "id": "0025e392-84cd-4566-a384-ea31ca43e567",
   "metadata": {},
   "source": [
    "## Inference"
   ]
  },
  {
   "cell_type": "markdown",
   "id": "0ab9ac11",
   "metadata": {},
   "source": [
    "The last step is to use your fine-tuned model for inference. Similar to the classic `FineTuning`, you simply call `ChatCompletions` with your new fine-tuned model name filling the `model` parameter.\n"
   ]
  },
  {
   "cell_type": "code",
   "execution_count": null,
   "id": "1c7de631-b68f-4eff-9ae7-051641579c2b",
   "metadata": {},
   "outputs": [],
   "source": [
    "test_df = recipe_df.loc[201:300]\n",
    "test_row = test_df.iloc[0]\n",
    "test_messages = []\n",
    "test_messages.append({\"role\": \"system\", \"content\": system_message})\n",
    "user_message = create_user_message(test_row)\n",
    "test_messages.append({\"role\": \"user\", \"content\": user_message})\n",
    "\n",
    "pprint(test_messages)"
   ]
  },
  {
   "cell_type": "code",
   "execution_count": null,
   "id": "1a1d2589",
   "metadata": {},
   "outputs": [],
   "source": [
    "response = client.chat.completions.create(\n",
    "    model=fine_tuned_model_id, messages=test_messages, temperature=0, max_tokens=500\n",
    ")\n",
    "print(response.choices[0].message.content)"
   ]
  },
  {
   "cell_type": "markdown",
   "id": "07799909-3f2a-4274-b81e-dabc048be28f",
   "metadata": {},
   "source": [
    "## Conclusion\n",
    "\n",
    "Congratulations, you are now ready to fine-tune your own models using the `ChatCompletion` format! We look forward to seeing what you build\n"
   ]
  }
 ],
 "metadata": {
  "kernelspec": {
   "display_name": "Python 3",
   "language": "python",
   "name": "python3"
  },
  "language_info": {
   "codemirror_mode": {
    "name": "ipython",
    "version": 3
   },
   "file_extension": ".py",
   "mimetype": "text/x-python",
   "name": "python",
   "nbconvert_exporter": "python",
   "pygments_lexer": "ipython3",
   "version": "3.10.14"
  }
 },
 "nbformat": 4,
 "nbformat_minor": 5
}
