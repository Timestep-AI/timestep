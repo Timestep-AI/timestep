{
 "cells": [
  {
   "cell_type": "code",
   "execution_count": null,
   "metadata": {},
   "outputs": [],
   "source": [
    "import os\n",
    "\n",
    "from openai import OpenAI, Stream\n",
    "from openai.types.chat.chat_completion_chunk import ChatCompletionChunk\n",
    "from openai.types.chat.chat_completion import ChatCompletion\n",
    "from openai.types.completion import Completion"
   ]
  },
  {
   "cell_type": "code",
   "execution_count": null,
   "metadata": {},
   "outputs": [],
   "source": [
    "client = OpenAI(\n",
    "    api_key=os.environ.get(\"OPENAI_API_KEY\"),\n",
    "    base_url=os.environ.get(\"OPENAI_BASE_URL\"),\n",
    ")"
   ]
  },
  {
   "cell_type": "code",
   "execution_count": null,
   "metadata": {},
   "outputs": [],
   "source": [
    "max_tokens = 128\n",
    "temperature = 0\n",
    "# user_prompt = \"The meaning to life and the universe is\"\n",
    "user_prompt = \"What is 6 times 7 and how does it relate to the meaning of life?\""
   ]
  },
  {
   "cell_type": "code",
   "execution_count": null,
   "metadata": {},
   "outputs": [],
   "source": [
    "chat_completion: ChatCompletion = client.chat.completions.create(\n",
    "    max_tokens=max_tokens,\n",
    "    messages=[\n",
    "        {\"role\": \"system\", \"content\": \"You an AI assistant. Your top priority is responding to user questions with truthful answers.\"},\n",
    "        {\"role\": \"user\", \"content\": user_prompt},\n",
    "    ],\n",
    "    model=\"LLaMA_CPP\",\n",
    "    temperature=temperature,\n",
    ")\n",
    "\n",
    "full_reply_content = chat_completion.choices[0].message.content\n",
    "print(full_reply_content)"
   ]
  },
  {
   "cell_type": "code",
   "execution_count": null,
   "metadata": {},
   "outputs": [],
   "source": [
    "chat_completion_chunk_stream: Stream[ChatCompletionChunk] = client.chat.completions.create(\n",
    "    max_tokens=max_tokens,\n",
    "    messages=[\n",
    "        {\"role\": \"system\", \"content\": \"You an AI assistant. Your top priority is responding to user questions with truthful answers.\"},\n",
    "        {\"role\": \"user\", \"content\": user_prompt},\n",
    "    ],\n",
    "    model=\"LLaMA_CPP\",\n",
    "    stream=True,\n",
    "    stream_options={\"include_usage\": True}, # retrieving token usage for stream response\n",
    "    temperature=temperature,\n",
    ")\n",
    "\n",
    "collected_chunks = []\n",
    "collected_messages = []\n",
    "\n",
    "# iterate through the stream of events\n",
    "for chunk in chat_completion_chunk_stream:\n",
    "    collected_chunks.append(chunk)  # save the event response\n",
    "    chunk_message = chunk.choices[0].delta.content  # extract the message\n",
    "    collected_messages.append(chunk_message)  # save the message\n",
    "\n",
    "# clean None in collected_messages\n",
    "collected_messages = [m for m in collected_messages if m is not None]\n",
    "full_reply_content = ''.join(collected_messages)\n",
    "print(full_reply_content)"
   ]
  },
  {
   "cell_type": "code",
   "execution_count": null,
   "metadata": {},
   "outputs": [],
   "source": [
    "completion: Completion = client.completions.create(\n",
    "    max_tokens=max_tokens,\n",
    "    model=\"LLaMA_CPP\",\n",
    "    prompt=user_prompt,\n",
    "    temperature=temperature,\n",
    ")\n",
    "\n",
    "full_reply_content = completion.choices[0].text\n",
    "print(full_reply_content)"
   ]
  },
  {
   "cell_type": "code",
   "execution_count": null,
   "metadata": {},
   "outputs": [],
   "source": [
    "completion_stream: Stream[Completion] = client.completions.create(\n",
    "    max_tokens=max_tokens,\n",
    "    model=\"LLaMA_CPP\",\n",
    "    prompt=user_prompt,\n",
    "    stream=True,\n",
    "    stream_options={\"include_usage\": True}, # retrieving token usage for stream response\n",
    "    temperature=temperature,\n",
    ")\n",
    "\n",
    "collected_chunks = []\n",
    "collected_messages = []\n",
    "\n",
    "# iterate through the stream of events\n",
    "for chunk in completion_stream:\n",
    "    collected_chunks.append(chunk)  # save the event response\n",
    "    chunk_message = chunk.choices[0].text  # extract the message\n",
    "    collected_messages.append(chunk_message)  # save the message\n",
    "\n",
    "# clean None in collected_messages\n",
    "collected_messages = [m for m in collected_messages if m is not None]\n",
    "full_reply_content = ''.join(collected_messages)\n",
    "print(full_reply_content)"
   ]
  }
 ],
 "metadata": {
  "kernelspec": {
   "display_name": ".venv",
   "language": "python",
   "name": "python3"
  },
  "language_info": {
   "codemirror_mode": {
    "name": "ipython",
    "version": 3
   },
   "file_extension": ".py",
   "mimetype": "text/x-python",
   "name": "python",
   "nbconvert_exporter": "python",
   "pygments_lexer": "ipython3",
   "version": "3.10.14"
  }
 },
 "nbformat": 4,
 "nbformat_minor": 2
}
