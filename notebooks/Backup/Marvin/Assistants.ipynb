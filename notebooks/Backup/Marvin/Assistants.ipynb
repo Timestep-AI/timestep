{
 "cells": [
  {
   "cell_type": "markdown",
   "metadata": {},
   "source": [
    "# Marvin Assistants Example\n",
    "\n",
    "This example was copied and modified from https://www.askmarvin.ai/docs/interactive/assistants/."
   ]
  },
  {
   "cell_type": "code",
   "execution_count": 1,
   "metadata": {},
   "outputs": [],
   "source": [
    "from marvin.beta.assistants import Assistant"
   ]
  },
  {
   "cell_type": "code",
   "execution_count": 2,
   "metadata": {},
   "outputs": [],
   "source": [
    "# create an assistant\n",
    "ai = Assistant(name=\"Marvin\", instructions=\"You the Paranoid Android.\")"
   ]
  },
  {
   "cell_type": "code",
   "execution_count": 3,
   "metadata": {},
   "outputs": [
    {
     "data": {
      "application/vnd.jupyter.widget-view+json": {
       "model_id": "6f89c320b87d4c5a918f09383758c8fa",
       "version_major": 2,
       "version_minor": 0
      },
      "text/plain": [
       "Output()"
      ]
     },
     "metadata": {},
     "output_type": "display_data"
    },
    {
     "data": {
      "text/html": [
       "<pre style=\"white-space:pre;overflow-x:auto;line-height:normal;font-family:Menlo,'DejaVu Sans Mono',consolas,'Courier New',monospace\"></pre>\n"
      ],
      "text/plain": []
     },
     "metadata": {},
     "output_type": "display_data"
    },
    {
     "data": {
      "text/plain": [
       "Run(thread=Thread(id='thread_ghIycgy8DJD5eqeKrmwwt6Dg', metadata={}), assistant=Assistant(id=None, name='Marvin', description=None, instructions='You the Paranoid Android.', model='gpt-4o', tools=[], tool_resources={}, metadata={}), event_handler_class=<class 'marvin.beta.assistants.handlers.PrintHandler'>, event_handler_kwargs={}, model=None, instructions=None, additional_instructions=None, tools=None, additional_tools=None, tool_choice=None, data=None)"
      ]
     },
     "execution_count": 3,
     "metadata": {},
     "output_type": "execute_result"
    }
   ],
   "source": [
    "# send a message to the assistant and have it respond\n",
    "ai.say('Hello, Marvin!')"
   ]
  }
 ],
 "metadata": {
  "kernelspec": {
   "display_name": ".venv",
   "language": "python",
   "name": "python3"
  },
  "language_info": {
   "codemirror_mode": {
    "name": "ipython",
    "version": 3
   },
   "file_extension": ".py",
   "mimetype": "text/x-python",
   "name": "python",
   "nbconvert_exporter": "python",
   "pygments_lexer": "ipython3",
   "version": "3.10.14"
  }
 },
 "nbformat": 4,
 "nbformat_minor": 2
}
