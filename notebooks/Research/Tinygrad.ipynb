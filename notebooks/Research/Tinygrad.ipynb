{
 "cells": [
  {
   "cell_type": "code",
   "execution_count": null,
   "metadata": {},
   "outputs": [],
   "source": [
    "import os\n",
    "\n",
    "if not os.path.exists(\"lib/tinygrad\"):\n",
    "    os.system(\"git clone https://github.com/tinygrad/tinygrad.git lib/tinygrad\")"
   ]
  },
  {
   "cell_type": "code",
   "execution_count": null,
   "metadata": {},
   "outputs": [],
   "source": [
    "%pip install -q -e lib/tinygrad"
   ]
  },
  {
   "cell_type": "code",
   "execution_count": null,
   "metadata": {},
   "outputs": [],
   "source": [
    "from tinygrad import Device\n",
    "\n",
    "print(Device.DEFAULT)"
   ]
  },
  {
   "cell_type": "code",
   "execution_count": null,
   "metadata": {},
   "outputs": [],
   "source": [
    "!python3 lib/tinygrad/examples/efficientnet.py ./lib/tinygrad/test/models/efficientnet/Chicken.jpg"
   ]
  },
  {
   "cell_type": "code",
   "execution_count": null,
   "metadata": {},
   "outputs": [],
   "source": [
    "# %pip install -q opencv-python\n",
    "# !python3 lib/tinygrad/examples/efficientnet.py webcam"
   ]
  },
  {
   "cell_type": "code",
   "execution_count": null,
   "metadata": {},
   "outputs": [],
   "source": [
    "!python3 lib/tinygrad/examples/yolov8.py https://raw.githubusercontent.com/tinygrad/tinygrad/master/docs/showcase/yolov8_showcase_image.png"
   ]
  },
  {
   "cell_type": "code",
   "execution_count": null,
   "metadata": {},
   "outputs": [],
   "source": [
    "# %pip install -q librosa PyAudio torchaudio\n",
    "# !SMALL=1 python3 lib/tinygrad/examples/whisper.py"
   ]
  },
  {
   "cell_type": "code",
   "execution_count": null,
   "metadata": {},
   "outputs": [],
   "source": [
    "# !python3 lib/tinygrad/examples/stable_diffusion.py"
   ]
  },
  {
   "cell_type": "code",
   "execution_count": null,
   "metadata": {},
   "outputs": [],
   "source": [
    "!python3 lib/tinygrad/examples/llama.py \\\n",
    "    --gen=\"tiny\" \\\n",
    "    --model=\"/home/mjschock/.config/timestep/models/TinyLlama/TinyLlama-1.1B-Chat-v1.0/model.safetensors\" \\\n",
    "    --size=\"1B-Chat\" \\\n",
    "    --temperature=0"
   ]
  },
  {
   "cell_type": "code",
   "execution_count": null,
   "metadata": {},
   "outputs": [],
   "source": [
    "!python3 src/llama.py \\\n",
    "    --gen=\"tiny\" \\\n",
    "    --model=\"/home/mjschock/.config/timestep/models/TinyLlama/TinyLlama-1.1B-Chat-v1.0/model.safetensors\" \\\n",
    "    --size=\"1B-Chat\" \\\n",
    "    --temperature=0"
   ]
  },
  {
   "cell_type": "code",
   "execution_count": null,
   "metadata": {},
   "outputs": [],
   "source": [
    "# sudo apt-get install festival espeak-ng mbrola\n",
    "# %pip install -q nltk phonemizer Unidecode\n",
    "# !python3 lib/tinygrad/examples/conversation.py"
   ]
  },
  {
   "cell_type": "code",
   "execution_count": null,
   "metadata": {},
   "outputs": [],
   "source": []
  }
 ],
 "metadata": {
  "kernelspec": {
   "display_name": ".venv",
   "language": "python",
   "name": "python3"
  },
  "language_info": {
   "codemirror_mode": {
    "name": "ipython",
    "version": 3
   },
   "file_extension": ".py",
   "mimetype": "text/x-python",
   "name": "python",
   "nbconvert_exporter": "python",
   "pygments_lexer": "ipython3",
   "version": "3.10.12"
  }
 },
 "nbformat": 4,
 "nbformat_minor": 2
}
