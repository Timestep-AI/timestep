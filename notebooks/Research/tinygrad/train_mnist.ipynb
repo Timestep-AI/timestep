{
 "cells": [
  {
   "cell_type": "code",
   "execution_count": 1,
   "metadata": {},
   "outputs": [
    {
     "data": {
      "text/plain": [
       "{'app_dir': '/home/mjschock/.config/timestep',\n",
       " 'bearerinfo_func': 'timestep.api.decode_token',\n",
       " 'default_hf_repo_id': 'Mozilla/TinyLlama-1.1B-Chat-v1.0-llamafile',\n",
       " 'default_llamafile_host': '0.0.0.0',\n",
       " 'default_llamafile_port': 8080,\n",
       " 'default_model_filename': 'TinyLlama-1.1B-Chat-v1.0.F16.llamafile',\n",
       " 'default_multimodal_model_projector_filename': None,\n",
       " 'openai_api_key': SecretStr('**********'),\n",
       " 'openai_base_url': 'http://localhost:8000/api/openai/v1',\n",
       " 'openai_org_id': 'organization_id',\n",
       " 'openai_project_id': 'project_id',\n",
       " 'poetry_repositories_testpypi_url': 'https://test.pypi.org/legacy/',\n",
       " 'poetry_virtualenvs_in_project': True,\n",
       " 'poetry_virtualenvs_prefer_active_python': True,\n",
       " 'prefect_api_url': 'http://127.0.0.1:4200/api',\n",
       " 'prefect_logging_level': 'INFO',\n",
       " 'prefect_logging_log_prints': True,\n",
       " 'pyenv_version': '3.10.14',\n",
       " 'verbose': True}"
      ]
     },
     "execution_count": 1,
     "metadata": {},
     "output_type": "execute_result"
    }
   ],
   "source": [
    "import timeit\n",
    "\n",
    "from tinygrad import Device, nn, TinyJit, Tensor\n",
    "from tinygrad.nn.datasets import mnist\n",
    "\n",
    "from timestep.config import Settings\n",
    "\n",
    "settings = Settings()\n",
    "settings.model_dump()"
   ]
  },
  {
   "cell_type": "markdown",
   "metadata": {},
   "source": [
    "## MNIST Training"
   ]
  },
  {
   "cell_type": "code",
   "execution_count": 2,
   "metadata": {},
   "outputs": [
    {
     "name": "stdout",
     "output_type": "stream",
     "text": [
      "CUDA\n"
     ]
    }
   ],
   "source": [
    "print(Device.DEFAULT)"
   ]
  },
  {
   "cell_type": "code",
   "execution_count": 3,
   "metadata": {},
   "outputs": [],
   "source": [
    "class Model:\n",
    "  def __init__(self):\n",
    "    self.l1 = nn.Conv2d(1, 32, kernel_size=(3,3))\n",
    "    self.l2 = nn.Conv2d(32, 64, kernel_size=(3,3))\n",
    "    self.l3 = nn.Linear(1600, 10)\n",
    "\n",
    "  def __call__(self, x:Tensor) -> Tensor:\n",
    "    x = self.l1(x).relu().max_pool2d((2,2))\n",
    "    x = self.l2(x).relu().max_pool2d((2,2))\n",
    "\n",
    "    return self.l3(x.flatten(1).dropout(0.5))"
   ]
  },
  {
   "cell_type": "code",
   "execution_count": 4,
   "metadata": {},
   "outputs": [
    {
     "data": {
      "text/plain": [
       "((60000, 1, 28, 28), (60000,), (10000, 1, 28, 28), (10000,))"
      ]
     },
     "execution_count": 4,
     "metadata": {},
     "output_type": "execute_result"
    }
   ],
   "source": [
    "X_train, Y_train, X_test, Y_test = mnist()\n",
    "X_train.shape, Y_train.shape, X_test.shape, Y_test.shape"
   ]
  },
  {
   "cell_type": "code",
   "execution_count": 5,
   "metadata": {},
   "outputs": [
    {
     "name": "stdout",
     "output_type": "stream",
     "text": [
      "Accuracy: 9.67%\n"
     ]
    }
   ],
   "source": [
    "model = Model()\n",
    "acc = (model(X_test).argmax(axis=1) == Y_test).mean()\n",
    "\n",
    "# NOTE: tinygrad is lazy, and hasn't actually run anything by this point\n",
    "# print(acc.item())  # ~10% accuracy, as expected from a random model\n",
    "\n",
    "print(f\"Accuracy: {acc.item():.2%}\")"
   ]
  },
  {
   "cell_type": "code",
   "execution_count": 6,
   "metadata": {},
   "outputs": [],
   "source": [
    "optim = nn.optim.Adam(nn.state.get_parameters(model))\n",
    "batch_size = 128\n",
    "\n",
    "def step():\n",
    "  Tensor.training = True  # makes dropout work\n",
    "  samples = Tensor.randint(batch_size, high=X_train.shape[0])\n",
    "  X, Y = X_train[samples], Y_train[samples]\n",
    "  optim.zero_grad()\n",
    "  loss = model(X).sparse_categorical_crossentropy(Y).backward()\n",
    "  optim.step()\n",
    "\n",
    "  return loss"
   ]
  },
  {
   "cell_type": "code",
   "execution_count": 7,
   "metadata": {},
   "outputs": [
    {
     "name": "stdout",
     "output_type": "stream",
     "text": [
      "Time per step: 0.696 seconds\n"
     ]
    },
    {
     "data": {
      "text/plain": [
       "[2.815063425999938,\n",
       " 0.48530614800006333,\n",
       " 0.06252777600002446,\n",
       " 0.059415125999976226,\n",
       " 0.057024180999974305]"
      ]
     },
     "execution_count": 7,
     "metadata": {},
     "output_type": "execute_result"
    }
   ],
   "source": [
    "times: list[float] = timeit.repeat(step, repeat=5, number=1)\n",
    "times_avg = sum(times) / len(times)\n",
    "\n",
    "print(f\"Time per step: {times_avg:.3f} seconds\")\n",
    "\n",
    "times if settings.verbose else None"
   ]
  },
  {
   "cell_type": "code",
   "execution_count": 8,
   "metadata": {},
   "outputs": [
    {
     "name": "stdout",
     "output_type": "stream",
     "text": [
      "Time per JIT step: 0.045 seconds (15.4x faster)\n"
     ]
    },
    {
     "data": {
      "text/plain": [
       "[2.815063425999938,\n",
       " 0.48530614800006333,\n",
       " 0.06252777600002446,\n",
       " 0.059415125999976226,\n",
       " 0.057024180999974305]"
      ]
     },
     "execution_count": 8,
     "metadata": {},
     "output_type": "execute_result"
    }
   ],
   "source": [
    "jit_step = TinyJit(step)\n",
    "\n",
    "jit_times: list[float] = timeit.repeat(jit_step, repeat=5, number=1)\n",
    "jit_avg_time = sum(jit_times) / len(jit_times)\n",
    "\n",
    "assert jit_avg_time < times_avg, \"JIT should be faster\"\n",
    "\n",
    "print(f\"Time per JIT step: {jit_avg_time:.3f} seconds ({times_avg / jit_avg_time:.1f}x faster)\")\n",
    "\n",
    "times if settings.verbose else None"
   ]
  },
  {
   "cell_type": "code",
   "execution_count": 9,
   "metadata": {},
   "outputs": [
    {
     "name": "stdout",
     "output_type": "stream",
     "text": [
      "step    0, loss 2.41, acc 73.02%\n",
      "step  100, loss 0.29, acc 96.06%\n"
     ]
    }
   ],
   "source": [
    "for step in range(7000):\n",
    "  loss = jit_step()\n",
    "\n",
    "  if step%100 == 0:\n",
    "    Tensor.training = False\n",
    "    acc = (model(X_test).argmax(axis=1) == Y_test).mean().item()\n",
    "    print(f\"step {step:4d}, loss {loss.item():.2f}, acc {acc*100.:.2f}%\")\n",
    "\n",
    "    if acc > 0.92:\n",
    "      break"
   ]
  }
 ],
 "metadata": {
  "kernelspec": {
   "display_name": ".venv",
   "language": "python",
   "name": "python3"
  },
  "language_info": {
   "codemirror_mode": {
    "name": "ipython",
    "version": 3
   },
   "file_extension": ".py",
   "mimetype": "text/x-python",
   "name": "python",
   "nbconvert_exporter": "python",
   "pygments_lexer": "ipython3",
   "version": "3.10.14"
  }
 },
 "nbformat": 4,
 "nbformat_minor": 2
}
